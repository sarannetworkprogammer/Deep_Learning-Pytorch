{
  "nbformat": 4,
  "nbformat_minor": 0,
  "metadata": {
    "colab": {
      "provenance": [],
      "authorship_tag": "ABX9TyO0qOCue0Vuy5+7jbSDDs3o",
      "include_colab_link": true
    },
    "kernelspec": {
      "name": "python3",
      "display_name": "Python 3"
    },
    "language_info": {
      "name": "python"
    }
  },
  "cells": [
    {
      "cell_type": "markdown",
      "metadata": {
        "id": "view-in-github",
        "colab_type": "text"
      },
      "source": [
        "<a href=\"https://colab.research.google.com/github/sarannetworkprogammer/Ml_rad/blob/main/Neuralnetwork_defining.ipynb\" target=\"_parent\"><img src=\"https://colab.research.google.com/assets/colab-badge.svg\" alt=\"Open In Colab\"/></a>"
      ]
    },
    {
      "cell_type": "code",
      "execution_count": 3,
      "metadata": {
        "id": "X-dufe3oMIsJ"
      },
      "outputs": [],
      "source": [
        "import torch\n",
        "import torch.nn as nn\n",
        "import torch.nn.functional as F"
      ]
    },
    {
      "cell_type": "code",
      "source": [
        "# cREATING NN MODULES\n",
        "\n",
        "\n",
        "\n",
        "class Net(nn.Module):\n",
        "  def __init__(self, input_size,hidden_size):\n",
        "    super(Net,self).__init__()\n",
        "    self.linear1 = nn.linear(input_size, hidden_size)\n",
        "    self.relu = nn.ReLU()\n",
        "    self.linear2 = nn.Linear(hidden_size, 1)\n",
        "    self.sigmoid = nn.Sigmoid()\n",
        "\n",
        "  \n",
        "  def forward(self,x):\n",
        "\n",
        "    out = self.linear1(x)\n",
        "    out = self.relu(out)\n",
        "    out = self.linear2(out)\n",
        "    out = self.sigmoid(out)\n",
        "\n"
      ],
      "metadata": {
        "id": "562Dy4LiMbOt"
      },
      "execution_count": 4,
      "outputs": []
    },
    {
      "cell_type": "code",
      "source": [
        "# other way of defining more simpler use activation functions in forward function \n",
        "\n",
        "\n",
        "class Net(nn.Module):\n",
        "  def __init__(self, input_size,hidden_size):\n",
        "    super(Net,self).__init__()\n",
        "    self.linear1 = nn.linear(input_size, hidden_size)\n",
        "    self.linear2 = nn.Linear(hidden_size, 1)   # outputsize is`\n",
        "   \n",
        "  \n",
        "  def forward(self,x):\n",
        "    out = torch.relu(self.linear1(x))\n",
        "    out = torch.sigmoid(self.linear2(out))\n",
        "    return out\n",
        "\n",
        "# if function are not avaialbel it can be in F.relu , F.leakyrelu activation functions are already there \n"
      ],
      "metadata": {
        "id": "svsqCiHBNYAS"
      },
      "execution_count": 5,
      "outputs": []
    }
  ]
}
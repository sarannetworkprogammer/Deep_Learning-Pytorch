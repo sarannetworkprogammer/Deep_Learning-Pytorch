{
  "nbformat": 4,
  "nbformat_minor": 0,
  "metadata": {
    "colab": {
      "provenance": [],
      "mount_file_id": "12y7Db_Y2k5-vTqeQo6eNgo63ah1Q7EQV",
      "authorship_tag": "ABX9TyOQks/9eu6pk03ctp86Rx3S",
      "include_colab_link": true
    },
    "kernelspec": {
      "name": "python3",
      "display_name": "Python 3"
    },
    "language_info": {
      "name": "python"
    }
  },
  "cells": [
    {
      "cell_type": "markdown",
      "metadata": {
        "id": "view-in-github",
        "colab_type": "text"
      },
      "source": [
        "<a href=\"https://colab.research.google.com/github/sarannetworkprogammer/Ml_rad/blob/main/Datasets_Dataloaders.ipynb\" target=\"_parent\"><img src=\"https://colab.research.google.com/assets/colab-badge.svg\" alt=\"Open In Colab\"/></a>"
      ]
    },
    {
      "cell_type": "code",
      "execution_count": null,
      "metadata": {
        "id": "QocFmyygusny"
      },
      "outputs": [],
      "source": [
        "import torch\n",
        "import torchvision\n",
        "from torch.utils.data import Dataset, DataLoader\n",
        "import numpy as np\n",
        "import math"
      ]
    },
    {
      "cell_type": "code",
      "source": [
        "class WineDataset(Dataset):\n",
        "\n",
        "  def __init__(self):\n",
        "\n",
        "    # data loading \n",
        "\n",
        "    xy = np.loadtxt(\"/content/drive/MyDrive/Colab Notebooks/wine.csv\",delimiter=\",\",dtype=np.float32, skiprows=1)\n",
        "\n",
        "    self.x = torch.from_numpy(xy[:,1:])\n",
        "    self.y = torch.from_numpy(xy[:,[0]])\n",
        "    self.n_samples = xy.shape[0]\n",
        "\n",
        "\n",
        "  def __getitem__(self, index):\n",
        "    # dataset[0]\n",
        "\n",
        "    return self.x[index], self.y[index]\n",
        "\n",
        "  \n",
        "  def __len__(self):\n",
        "    return self.n_samples\n",
        "\n",
        "\n",
        "\n",
        "dataset = WineDataset()\n",
        "\n",
        "\n",
        "#first_data = dataset[0]\n",
        "#features, labels = first_data\n",
        "#print(features,labels)\n",
        "\n",
        "\n",
        "\n",
        "dataloader = DataLoader(dataset=dataset, batch_size=4, shuffle=True, num_workers=2)\n",
        "\n",
        "\n",
        "# training loop\n",
        "\n",
        "\n",
        "\n",
        "num_epochs = 2\n",
        "total_samples = len(dataset)\n",
        "n_iterations  =  math.ceil(total_samples/4)\n",
        "print(total_samples, n_iterations)\n",
        "\n",
        "\n",
        "\n",
        "\n"
      ],
      "metadata": {
        "id": "uf_Kv14gv5v_",
        "colab": {
          "base_uri": "https://localhost:8080/"
        },
        "outputId": "4e5e744e-d746-415d-947b-963540f01fe3"
      },
      "execution_count": 12,
      "outputs": [
        {
          "output_type": "stream",
          "name": "stdout",
          "text": [
            "<torch.utils.data.dataloader.DataLoader object at 0x7f428c49db90>\n",
            "178 45\n"
          ]
        }
      ]
    },
    {
      "cell_type": "code",
      "source": [
        "for epoch in range(num_epochs):\n",
        "  for i, (inputs,labels) in enumerate(dataloader):\n",
        "\n",
        "    if (i+1) % 5 ==0:\n",
        "      print(f\"epoch ={epoch+1}/{num_epochs}, step{i+1}/{n_iterations}, inputs {inputs.shape}\")"
      ],
      "metadata": {
        "colab": {
          "base_uri": "https://localhost:8080/"
        },
        "id": "3XxmNPmD4LOJ",
        "outputId": "3613ee1f-d93c-428f-d8b5-cffed6b2d689"
      },
      "execution_count": 13,
      "outputs": [
        {
          "output_type": "stream",
          "name": "stdout",
          "text": [
            "epoch =1/2, step5/45, inputs torch.Size([4, 13])\n",
            "epoch =1/2, step10/45, inputs torch.Size([4, 13])\n",
            "epoch =1/2, step15/45, inputs torch.Size([4, 13])\n",
            "epoch =1/2, step20/45, inputs torch.Size([4, 13])\n",
            "epoch =1/2, step25/45, inputs torch.Size([4, 13])\n",
            "epoch =1/2, step30/45, inputs torch.Size([4, 13])\n",
            "epoch =1/2, step35/45, inputs torch.Size([4, 13])\n",
            "epoch =1/2, step40/45, inputs torch.Size([4, 13])\n",
            "epoch =1/2, step45/45, inputs torch.Size([2, 13])\n",
            "epoch =2/2, step5/45, inputs torch.Size([4, 13])\n",
            "epoch =2/2, step10/45, inputs torch.Size([4, 13])\n",
            "epoch =2/2, step15/45, inputs torch.Size([4, 13])\n",
            "epoch =2/2, step20/45, inputs torch.Size([4, 13])\n",
            "epoch =2/2, step25/45, inputs torch.Size([4, 13])\n",
            "epoch =2/2, step30/45, inputs torch.Size([4, 13])\n",
            "epoch =2/2, step35/45, inputs torch.Size([4, 13])\n",
            "epoch =2/2, step40/45, inputs torch.Size([4, 13])\n",
            "epoch =2/2, step45/45, inputs torch.Size([2, 13])\n"
          ]
        }
      ]
    }
  ]
}
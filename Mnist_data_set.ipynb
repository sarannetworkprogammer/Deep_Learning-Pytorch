{
  "nbformat": 4,
  "nbformat_minor": 0,
  "metadata": {
    "colab": {
      "provenance": [],
      "authorship_tag": "ABX9TyPJNPP8N6q1a85QR1ZK1VMC",
      "include_colab_link": true
    },
    "kernelspec": {
      "name": "python3",
      "display_name": "Python 3"
    },
    "language_info": {
      "name": "python"
    }
  },
  "cells": [
    {
      "cell_type": "markdown",
      "metadata": {
        "id": "view-in-github",
        "colab_type": "text"
      },
      "source": [
        "<a href=\"https://colab.research.google.com/github/sarannetworkprogammer/Ml_rad/blob/main/Mnist_data_set.ipynb\" target=\"_parent\"><img src=\"https://colab.research.google.com/assets/colab-badge.svg\" alt=\"Open In Colab\"/></a>"
      ]
    },
    {
      "cell_type": "markdown",
      "source": [
        "MNIST Dataset\n",
        "\n",
        "1.   Data loader , Tansformation\n",
        "2.   multilayer neural net, activation function\n",
        "loss and optmize\n",
        "training loop\n",
        "model evaluation\n",
        "gpu support\n"
      ],
      "metadata": {
        "id": "nMn54WxVOX-u"
      }
    },
    {
      "cell_type": "code",
      "execution_count": 39,
      "metadata": {
        "id": "kcFK7YEoOV5R"
      },
      "outputs": [],
      "source": [
        "import torch\n",
        "import torch.nn as nn\n",
        "import torchvision\n",
        "import torchvision.transforms as transforms\n",
        "import matplotlib.pyplot as plt\n",
        "from torch.utils.data import Dataset, DataLoader\n",
        "from torchvision import datasets"
      ]
    },
    {
      "cell_type": "code",
      "source": [
        "# device config\n",
        "\n",
        "device = torch.device(\"cuda\" if torch.cuda.is_available() else \"cpu\")\n",
        "\n",
        "\n",
        "#hyperparameters \n",
        "\n",
        "input_size =  784   # our image size is 28*28 which flatens equals to 784\n",
        "hidden_size = 100\n",
        "num_classes = 10\n",
        "num_epochs = 10\n",
        "batch_size = 100\n",
        "learning_rate = 0.01\n"
      ],
      "metadata": {
        "id": "3Exg-et-PCuy"
      },
      "execution_count": 40,
      "outputs": []
    },
    {
      "cell_type": "code",
      "source": [
        "# MNIST data set \n",
        "\n",
        "\n",
        "train_dataset = torchvision.datasets.MNIST(root=\"./data\", train=True, transform = transforms.ToTensor(), download= True)\n",
        "\n",
        "test_dataset = torchvision.datasets.MNIST(root=\"./data\", train=False, transform = transforms.ToTensor())\n",
        "\n",
        "train_loader = torch.utils.data.DataLoader(dataset=train_dataset, batch_size=batch_size, shuffle=True)\n",
        "\n",
        "test_loader = torch.utils.data.DataLoader(dataset=test_dataset, batch_size=batch_size, shuffle=False)\n",
        "\n",
        "\n",
        "examples = iter(train_loader)\n",
        "samples,labels = examples.next()\n",
        "print(samples.shape, labels.shape)\n",
        " \n",
        "# Here 100 samples 1 is channel which grey image, and image size is 28*28\n",
        "\n",
        "for i in range(6):\n",
        "  plt.subplot(2,3,i+1)\n",
        "  plt.imshow(samples[i][0],cmap=\"gray\")\n",
        "\n",
        "plt.show()"
      ],
      "metadata": {
        "colab": {
          "base_uri": "https://localhost:8080/",
          "height": 284
        },
        "id": "6FaDd6SOPwpR",
        "outputId": "0d63abd7-0637-45a5-ba3f-d0d83593e481"
      },
      "execution_count": 41,
      "outputs": [
        {
          "output_type": "stream",
          "name": "stdout",
          "text": [
            "torch.Size([100, 1, 28, 28]) torch.Size([100])\n"
          ]
        },
        {
          "output_type": "display_data",
          "data": {
            "text/plain": [
              "<Figure size 432x288 with 6 Axes>"
            ],
            "image/png": "[encoded data removed]"
          },
          "metadata": {
            "needs_background": "light"
          }
        }
      ]
    },
    {
      "cell_type": "code",
      "source": [
        "class NeuralNet(nn.Module):\n",
        "\n",
        "  def __init__(self,input_size, hidden_size, num_classes):\n",
        "\n",
        "    super(NeuralNet, self).__init__()\n",
        "    self.linear1 = nn.Linear(input_size,hidden_size)\n",
        "    self.linear2 = nn.Linear(hidden_size, num_classes)\n",
        "\n",
        "\n",
        "  def forward(self,x):\n",
        "\n",
        "    out = torch.relu(self.linear1(x))\n",
        "    out = self.linear2(out)\n",
        "\n",
        "    return out\n",
        "\n",
        "\n",
        "model = NeuralNet(input_size, hidden_size, num_classes)\n"
      ],
      "metadata": {
        "id": "JNhhRDfrTkb2"
      },
      "execution_count": 42,
      "outputs": []
    },
    {
      "cell_type": "code",
      "source": [
        "#loss and optmizer\n",
        "\n",
        "criterion = nn.CrossEntropyLoss()\n",
        "\n",
        "optimizer = torch.optim.Adam(model.parameters(), lr = learning_rate)"
      ],
      "metadata": {
        "id": "O8GLg1C5Ui0c"
      },
      "execution_count": 43,
      "outputs": []
    },
    {
      "cell_type": "code",
      "source": [
        "# training loop\n",
        "\n",
        "n_total_steps = len(train_loader)\n",
        "\n",
        "for epoch in range(num_epochs):\n",
        "  for i , (images,labels) in enumerate(train_loader):\n",
        "    images = images.reshape(-1, 28*28).to(device)\n",
        "    \n",
        "    labels = labels.to(device)\n",
        "\n",
        "    # forward\n",
        "\n",
        "    outputs = model(images)\n",
        "\n",
        "    loss = criterion(outputs, labels)\n",
        "\n",
        "\n",
        "    # backwards\n",
        "\n",
        "    optimizer.zero_grad()\n",
        "\n",
        "    loss.backward()\n",
        "    \n",
        "    optimizer.step()\n",
        "\n",
        "    if (i+1) %100 == 0:\n",
        "      print(f\"epoch = {epoch+1}/{num_epochs} , step{i+1}/{n_total_steps} , loss = {loss.item():4f} \")\n",
        "\n"
      ],
      "metadata": {
        "colab": {
          "base_uri": "https://localhost:8080/"
        },
        "id": "Eg-N-jQxU3LF",
        "outputId": "99f2deab-8ee0-474f-8215-3de9a49bb1a9"
      },
      "execution_count": 44,
      "outputs": [
        {
          "output_type": "stream",
          "name": "stdout",
          "text": [
            "epoch = 1/10 , step100/600 , loss = 0.351455 \n",
            "epoch = 1/10 , step200/600 , loss = 0.216901 \n",
            "epoch = 1/10 , step300/600 , loss = 0.122983 \n",
            "epoch = 1/10 , step400/600 , loss = 0.141484 \n",
            "epoch = 1/10 , step500/600 , loss = 0.164117 \n",
            "epoch = 1/10 , step600/600 , loss = 0.484805 \n",
            "epoch = 2/10 , step100/600 , loss = 0.162002 \n",
            "epoch = 2/10 , step200/600 , loss = 0.080623 \n",
            "epoch = 2/10 , step300/600 , loss = 0.025678 \n",
            "epoch = 2/10 , step400/600 , loss = 0.205818 \n",
            "epoch = 2/10 , step500/600 , loss = 0.089227 \n",
            "epoch = 2/10 , step600/600 , loss = 0.133485 \n",
            "epoch = 3/10 , step100/600 , loss = 0.054392 \n",
            "epoch = 3/10 , step200/600 , loss = 0.076245 \n",
            "epoch = 3/10 , step300/600 , loss = 0.060484 \n",
            "epoch = 3/10 , step400/600 , loss = 0.036088 \n",
            "epoch = 3/10 , step500/600 , loss = 0.076336 \n",
            "epoch = 3/10 , step600/600 , loss = 0.039189 \n",
            "epoch = 4/10 , step100/600 , loss = 0.036788 \n",
            "epoch = 4/10 , step200/600 , loss = 0.112687 \n",
            "epoch = 4/10 , step300/600 , loss = 0.207683 \n",
            "epoch = 4/10 , step400/600 , loss = 0.115263 \n",
            "epoch = 4/10 , step500/600 , loss = 0.091387 \n",
            "epoch = 4/10 , step600/600 , loss = 0.092585 \n",
            "epoch = 5/10 , step100/600 , loss = 0.035003 \n",
            "epoch = 5/10 , step200/600 , loss = 0.129823 \n",
            "epoch = 5/10 , step300/600 , loss = 0.122792 \n",
            "epoch = 5/10 , step400/600 , loss = 0.216662 \n",
            "epoch = 5/10 , step500/600 , loss = 0.087834 \n",
            "epoch = 5/10 , step600/600 , loss = 0.087552 \n",
            "epoch = 6/10 , step100/600 , loss = 0.038036 \n",
            "epoch = 6/10 , step200/600 , loss = 0.023516 \n",
            "epoch = 6/10 , step300/600 , loss = 0.009123 \n",
            "epoch = 6/10 , step400/600 , loss = 0.092563 \n",
            "epoch = 6/10 , step500/600 , loss = 0.067290 \n",
            "epoch = 6/10 , step600/600 , loss = 0.339982 \n",
            "epoch = 7/10 , step100/600 , loss = 0.094723 \n",
            "epoch = 7/10 , step200/600 , loss = 0.065321 \n",
            "epoch = 7/10 , step300/600 , loss = 0.126292 \n",
            "epoch = 7/10 , step400/600 , loss = 0.017691 \n",
            "epoch = 7/10 , step500/600 , loss = 0.077626 \n",
            "epoch = 7/10 , step600/600 , loss = 0.034303 \n",
            "epoch = 8/10 , step100/600 , loss = 0.014941 \n",
            "epoch = 8/10 , step200/600 , loss = 0.005225 \n",
            "epoch = 8/10 , step300/600 , loss = 0.049669 \n",
            "epoch = 8/10 , step400/600 , loss = 0.041934 \n",
            "epoch = 8/10 , step500/600 , loss = 0.082782 \n",
            "epoch = 8/10 , step600/600 , loss = 0.060727 \n",
            "epoch = 9/10 , step100/600 , loss = 0.073567 \n",
            "epoch = 9/10 , step200/600 , loss = 0.003511 \n",
            "epoch = 9/10 , step300/600 , loss = 0.015904 \n",
            "epoch = 9/10 , step400/600 , loss = 0.156555 \n",
            "epoch = 9/10 , step500/600 , loss = 0.105102 \n",
            "epoch = 9/10 , step600/600 , loss = 0.058466 \n",
            "epoch = 10/10 , step100/600 , loss = 0.042263 \n",
            "epoch = 10/10 , step200/600 , loss = 0.125346 \n",
            "epoch = 10/10 , step300/600 , loss = 0.015672 \n",
            "epoch = 10/10 , step400/600 , loss = 0.117322 \n",
            "epoch = 10/10 , step500/600 , loss = 0.085516 \n",
            "epoch = 10/10 , step600/600 , loss = 0.078921 \n"
          ]
        }
      ]
    },
    {
      "cell_type": "code",
      "source": [
        "# test  and finding accuracy how many predicted samples are matching with actual samples\n",
        "\n",
        "with torch.no_grad():\n",
        "  n_correct = 0\n",
        "  n_samples = 0\n",
        "\n",
        "  for images, labels in test_loader:\n",
        "    images = images.reshape(-1, 28*28).to(device)\n",
        "    \n",
        "    labels = labels.to(device)\n",
        "\n",
        "    output = model(images)\n",
        "    # vlaue, index \n",
        "    _,predictions = torch.max(outputs,1)\n",
        "    n_samples += labels.shape[0]\n",
        "    n_correct += (predictions == labels).sum().item()\n",
        "\n",
        "  acc = 100.0 * (n_correct/n_samples)\n",
        "\n",
        "  print(f\"accuracy ={acc}\")\n",
        "\n"
      ],
      "metadata": {
        "colab": {
          "base_uri": "https://localhost:8080/"
        },
        "id": "QAri1aIeS-87",
        "outputId": "64302ca3-a106-47e4-ab53-bd2440e08a8a"
      },
      "execution_count": 46,
      "outputs": [
        {
          "output_type": "stream",
          "name": "stdout",
          "text": [
            "accuracy =10.58\n"
          ]
        }
      ]
    }
  ]
}
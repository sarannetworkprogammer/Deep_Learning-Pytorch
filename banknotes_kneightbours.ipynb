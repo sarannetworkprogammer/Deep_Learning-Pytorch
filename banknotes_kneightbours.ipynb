{
  "nbformat": 4,
  "nbformat_minor": 0,
  "metadata": {
    "colab": {
      "provenance": [],
      "mount_file_id": "1rUGgPgbfKlyMH4qzb-kvI9Bh1c3ZdLwW",
      "authorship_tag": "ABX9TyNsjtnvxM5JDLAm6vQY0cBK",
      "include_colab_link": true
    },
    "kernelspec": {
      "name": "python3",
      "display_name": "Python 3"
    },
    "language_info": {
      "name": "python"
    }
  },
  "cells": [
    {
      "cell_type": "markdown",
      "metadata": {
        "id": "view-in-github",
        "colab_type": "text"
      },
      "source": [
        "<a href=\"https://colab.research.google.com/github/sarannetworkprogammer/Ml_rad/blob/main/banknotes_kneightbours.ipynb\" target=\"_parent\"><img src=\"https://colab.research.google.com/assets/colab-badge.svg\" alt=\"Open In Colab\"/></a>"
      ]
    },
    {
      "cell_type": "code",
      "execution_count": null,
      "metadata": {
        "id": "WW75rnAA5uQU"
      },
      "outputs": [],
      "source": [
        "import csv\n",
        "import random\n",
        "\n",
        "from sklearn import svm\n",
        "from sklearn.linear_model import Perceptron\n",
        "from sklearn.model_selection import train_test_split\n",
        "from sklearn.naive_bayes import GaussianNB\n",
        "from sklearn.neighbors import KNeighborsClassifier\n",
        "\n",
        "\n"
      ]
    },
    {
      "cell_type": "code",
      "source": [
        "#model = Perceptron()\n",
        "#model = svm.SVC()\n",
        "model = KNeighborsClassifier(n_neighbors=1)\n"
      ],
      "metadata": {
        "id": "uvxViv_x5wXG"
      },
      "execution_count": 16,
      "outputs": []
    },
    {
      "cell_type": "code",
      "source": [
        "# Read data in from file\n",
        "with open(\"/content/drive/MyDrive/Colab Notebooks/banknotes.csv\") as f:\n",
        "    reader = csv.reader(f)\n",
        "    next(reader)\n",
        "\n",
        "    data = []\n",
        "    for row in reader:\n",
        "        data.append({\n",
        "            \"evidence\": [float(cell) for cell in row[:4]],\n",
        "            \"label\": \"Authentic\" if row[4] == \"0\" else \"Counterfeit\"\n",
        "        })\n",
        "\n",
        "# Separate data into training and testing groups\n",
        "evidence = [row[\"evidence\"] for row in data]\n",
        "labels = [row[\"label\"] for row in data]\n",
        "\n",
        "X_training, X_testing, y_training, y_testing = train_test_split(\n",
        "    evidence, labels, test_size=0.4\n",
        ")\n",
        "\n",
        "# Fit model\n",
        "model.fit(X_training, y_training)\n",
        "\n",
        "# Make predictions on the testing set\n",
        "predictions = model.predict(X_testing)\n",
        "\n",
        "# Compute how well we performed\n",
        "correct = (y_testing == predictions).sum()\n",
        "incorrect = (y_testing != predictions).sum()\n",
        "total = len(predictions)\n",
        "\n",
        "# Print results\n",
        "print(f\"Results for model {type(model).__name__}\")\n",
        "print(f\"Correct: {correct}\")\n",
        "print(f\"Incorrect: {incorrect}\")\n",
        "print(f\"Accuracy: {100 * correct / total:.2f}%\")\n"
      ],
      "metadata": {
        "colab": {
          "base_uri": "https://localhost:8080/"
        },
        "id": "WkpBFZYV5xDc",
        "outputId": "bfd4fa65-4387-420e-a9bc-7e9fa779eb31"
      },
      "execution_count": 17,
      "outputs": [
        {
          "output_type": "stream",
          "name": "stdout",
          "text": [
            "Results for model KNeighborsClassifier\n",
            "Correct: 548\n",
            "Incorrect: 1\n",
            "Accuracy: 99.82%\n"
          ]
        }
      ]
    },
    {
      "cell_type": "code",
      "source": [],
      "metadata": {
        "id": "jYi45hcG5xOs"
      },
      "execution_count": null,
      "outputs": []
    }
  ]
}
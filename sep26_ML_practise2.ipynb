{
  "nbformat": 4,
  "nbformat_minor": 0,
  "metadata": {
    "colab": {
      "provenance": [],
      "authorship_tag": "ABX9TyMXN+Or6FeEtGC2XYszJrWy",
      "include_colab_link": true
    },
    "kernelspec": {
      "name": "python3",
      "display_name": "Python 3"
    },
    "language_info": {
      "name": "python"
    }
  },
  "cells": [
    {
      "cell_type": "markdown",
      "metadata": {
        "id": "view-in-github",
        "colab_type": "text"
      },
      "source": [
        "<a href=\"https://colab.research.google.com/github/sarannetworkprogammer/Ml_rad/blob/main/sep26_ML_practise2.ipynb\" target=\"_parent\"><img src=\"https://colab.research.google.com/assets/colab-badge.svg\" alt=\"Open In Colab\"/></a>"
      ]
    },
    {
      "cell_type": "code",
      "execution_count": 84,
      "metadata": {
        "id": "JivMeeY2cPTb"
      },
      "outputs": [],
      "source": [
        "# 1.Design model (input, outputsize , forward pass)\n",
        "#2. construct loss and optmizer\n",
        "#3. training loop \n",
        "#     forwardpass : compute prediction\n",
        "#     backward pass: gradients\n",
        "#     update weights"
      ]
    },
    {
      "cell_type": "code",
      "source": [
        "import torch\n",
        "import torch.nn as nn\n",
        "from torch.optim import optimizer"
      ],
      "metadata": {
        "id": "7Rm79GAchOrh"
      },
      "execution_count": 85,
      "outputs": []
    },
    {
      "cell_type": "code",
      "source": [
        "# f = w * x\n",
        "# f = 2* x\n",
        "\n",
        "\n",
        "X = torch.tensor([[1], [2], [3], [4]],dtype=torch.float32)\n",
        "Y = torch.tensor([[2], [4], [6], [8]],dtype=torch.float32)\n",
        "\n",
        "n_samples, n_features = X.shape\n",
        "print(n_samples,n_features)\n",
        "\n",
        "\n",
        "\n",
        "X_test = torch.tensor([5], dtype=torch.float32)"
      ],
      "metadata": {
        "colab": {
          "base_uri": "https://localhost:8080/"
        },
        "id": "C1kLNsAehQKt",
        "outputId": "1eb40535-0479-4d50-cc18-e06e93e4391e"
      },
      "execution_count": 86,
      "outputs": [
        {
          "output_type": "stream",
          "name": "stdout",
          "text": [
            "4 1\n"
          ]
        }
      ]
    },
    {
      "cell_type": "code",
      "source": [
        "# model prediction\n",
        "input_size = n_features\n",
        "output_size = n_features\n",
        "\n",
        "\n",
        "\n",
        "\n",
        "#model = nn.Linear(input_size,output_size)\n",
        "\n",
        "class LinearRegression(nn.Module):\n",
        "\n",
        "  def __init__(self,input_dim, output_dim):\n",
        "    super(LinearRegression,self).__init__()\n",
        "\n",
        "\n",
        "    # define layers\n",
        "\n",
        "    self.lin = nn.Linear(input_dim, output_dim)\n",
        "\n",
        "  \n",
        "  def forward(self,x):\n",
        "    return self.lin(x)\n",
        "\n",
        "\n",
        "\n",
        "model = LinearRegression(input_size, output_size)\n",
        "\n",
        "\n",
        "\n",
        "\n",
        "\n",
        "\n",
        "\n",
        "\n",
        "print(f\"prediction before training f(5) = {model(X_test).item():.3f}\")"
      ],
      "metadata": {
        "id": "JUoaFjOpwLq5",
        "colab": {
          "base_uri": "https://localhost:8080/"
        },
        "outputId": "2afe529d-31cf-4f61-ff35-4018466afaa7"
      },
      "execution_count": 87,
      "outputs": [
        {
          "output_type": "stream",
          "name": "stdout",
          "text": [
            "prediction before training f(5) = -4.189\n"
          ]
        }
      ]
    },
    {
      "cell_type": "code",
      "source": [
        "# loss"
      ],
      "metadata": {
        "id": "KJsW-T8rwL8m"
      },
      "execution_count": 88,
      "outputs": []
    },
    {
      "cell_type": "code",
      "source": [
        "# traiing\n",
        "\n",
        "\n",
        "learning_rate = 0.01\n",
        "n_iters = 10000\n",
        "\n",
        "loss = nn.MSELoss()\n",
        "\n",
        "optimizer = torch.optim.SGD(model.parameters(), lr=learning_rate)"
      ],
      "metadata": {
        "id": "G7kT_q3IEr0n"
      },
      "execution_count": 89,
      "outputs": []
    },
    {
      "cell_type": "code",
      "source": [
        "\n",
        "for epoch in range(n_iters):\n",
        "  #prediction\n",
        "\n",
        "  y_pred = model(X)\n",
        "\n",
        "  #loss\n",
        "\n",
        "  l = loss(Y,y_pred)\n",
        "\n",
        "  # gradients backward pass\n",
        "  l.backward() # dl/dw\n",
        "\n",
        "  optimizer.step()\n",
        "\n",
        "\n",
        "  # zero gradients\n",
        "  optimizer.zero_grad()\n",
        "\n",
        "\n",
        "  # printing epochs\n",
        "\n",
        "  if epoch % 1000 == 0:\n",
        "\n",
        "    [w,b] =  model.parameters()\n",
        "    print(f\"epoch={epoch+1}: w {w[0][0].item():.3f}, loss={l:.8f}\" )\n",
        "\n",
        "\n",
        "print(f\"prediction after training f(5) = {model(X_test).item():.3f}\")"
      ],
      "metadata": {
        "colab": {
          "base_uri": "https://localhost:8080/"
        },
        "id": "GcSfVb8VFI4D",
        "outputId": "a4f79254-f965-45aa-9fee-f74704053ba0"
      },
      "execution_count": 90,
      "outputs": [
        {
          "output_type": "stream",
          "name": "stdout",
          "text": [
            "epoch=1: w -0.255, loss=64.60846710\n",
            "epoch=1001: w 1.997, loss=0.00001359\n",
            "epoch=2001: w 2.000, loss=0.00000003\n",
            "epoch=3001: w 2.000, loss=0.00000000\n",
            "epoch=4001: w 2.000, loss=0.00000000\n",
            "epoch=5001: w 2.000, loss=0.00000000\n",
            "epoch=6001: w 2.000, loss=0.00000000\n",
            "epoch=7001: w 2.000, loss=0.00000000\n",
            "epoch=8001: w 2.000, loss=0.00000000\n",
            "epoch=9001: w 2.000, loss=0.00000000\n",
            "prediction after training f(5) = 10.000\n"
          ]
        }
      ]
    },
    {
      "cell_type": "code",
      "source": [],
      "metadata": {
        "id": "tmjJPr9XEr4b"
      },
      "execution_count": 90,
      "outputs": []
    }
  ]
}
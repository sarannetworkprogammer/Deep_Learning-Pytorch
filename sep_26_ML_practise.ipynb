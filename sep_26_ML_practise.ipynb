{
  "nbformat": 4,
  "nbformat_minor": 0,
  "metadata": {
    "colab": {
      "provenance": [],
      "authorship_tag": "ABX9TyPvJvSIjKa881ctzsy8PbTe",
      "include_colab_link": true
    },
    "kernelspec": {
      "name": "python3",
      "display_name": "Python 3"
    },
    "language_info": {
      "name": "python"
    }
  },
  "cells": [
    {
      "cell_type": "markdown",
      "metadata": {
        "id": "view-in-github",
        "colab_type": "text"
      },
      "source": [
        "<a href=\"https://colab.research.google.com/github/sarannetworkprogammer/Ml_rad/blob/main/sep_26_ML_practise.ipynb\" target=\"_parent\"><img src=\"https://colab.research.google.com/assets/colab-badge.svg\" alt=\"Open In Colab\"/></a>"
      ]
    },
    {
      "cell_type": "code",
      "execution_count": 1,
      "metadata": {
        "id": "t4VYtZxKZQSe"
      },
      "outputs": [],
      "source": [
        "import torch"
      ]
    },
    {
      "cell_type": "code",
      "source": [
        "X = torch.tensor([1,2,3,4], dtype=torch.float32)\n",
        "Y = torch.tensor([2,4,6,8], dtype=torch.float32)\n",
        "\n",
        "w = torch.tensor(0.0,dtype=torch.float32,requires_grad=True)"
      ],
      "metadata": {
        "id": "bdTJptgdZYWV"
      },
      "execution_count": 9,
      "outputs": []
    },
    {
      "cell_type": "code",
      "source": [
        "# model prediction forward propagation\n",
        "\n",
        "def forward(X):\n",
        "  return w * X"
      ],
      "metadata": {
        "id": "i3bEnlHQZwmr"
      },
      "execution_count": 10,
      "outputs": []
    },
    {
      "cell_type": "code",
      "source": [
        "# LOSS MSE\n",
        "\n",
        "def loss(y,y_predicted):\n",
        "  return ((y_predicted-y)**2).mean()\n",
        "  "
      ],
      "metadata": {
        "id": "KMNyCNbrZ8tQ"
      },
      "execution_count": 11,
      "outputs": []
    },
    {
      "cell_type": "code",
      "source": [
        "# Tranining\n",
        "\n",
        "# learning_Rate\n",
        "\n",
        "\n",
        "learning_rate = 0.01\n",
        "n_iter = 100"
      ],
      "metadata": {
        "id": "BWiENUmiaIU1"
      },
      "execution_count": 14,
      "outputs": []
    },
    {
      "cell_type": "code",
      "source": [
        "for epoch in range(n_iter):\n",
        "  #print(f\"epoch ={epoch}\")\n",
        "  #prediction = forward pass\n",
        "\n",
        "  y_pred = forward(X)\n",
        "\n",
        "\n",
        "  #LOSS\n",
        "\n",
        "  l = loss(Y, y_pred)\n",
        "\n",
        "  #gradients\n",
        "\n",
        "  l.backward()  # dl.dw\n",
        "  # update weights\n",
        "\n",
        "  with torch.no_grad():\n",
        "\n",
        "    w -= learning_rate * w.grad\n",
        "  w.grad.zero_()\n",
        "  if epoch % 10 == 0:\n",
        "\n",
        "    print(f\"epoch {epoch +1}: w = {w:.3f}, loss={l:.8f}\")\n",
        "\n",
        "\n",
        "print(f\"prediction after training :f(5)={forward(5):.3f}\")"
      ],
      "metadata": {
        "colab": {
          "base_uri": "https://localhost:8080/"
        },
        "id": "YgRfRAyhasJy",
        "outputId": "6ecac142-2de4-4304-d464-1d515bbda310"
      },
      "execution_count": 16,
      "outputs": [
        {
          "output_type": "stream",
          "name": "stdout",
          "text": [
            "epoch 1: w = 2.000, loss=0.00000000\n",
            "epoch 11: w = 2.000, loss=0.00000000\n",
            "epoch 21: w = 2.000, loss=0.00000000\n",
            "epoch 31: w = 2.000, loss=0.00000000\n",
            "epoch 41: w = 2.000, loss=0.00000000\n",
            "epoch 51: w = 2.000, loss=0.00000000\n",
            "epoch 61: w = 2.000, loss=0.00000000\n",
            "epoch 71: w = 2.000, loss=0.00000000\n",
            "epoch 81: w = 2.000, loss=0.00000000\n",
            "epoch 91: w = 2.000, loss=0.00000000\n",
            "prediction after training :f(5)=10.000\n"
          ]
        }
      ]
    }
  ]
}
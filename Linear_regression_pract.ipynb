{
  "nbformat": 4,
  "nbformat_minor": 0,
  "metadata": {
    "colab": {
      "provenance": [],
      "authorship_tag": "ABX9TyPYa6qkfeL3xEo1o5rMD6lD",
      "include_colab_link": true
    },
    "kernelspec": {
      "name": "python3",
      "display_name": "Python 3"
    },
    "language_info": {
      "name": "python"
    }
  },
  "cells": [
    {
      "cell_type": "markdown",
      "metadata": {
        "id": "view-in-github",
        "colab_type": "text"
      },
      "source": [
        "<a href=\"https://colab.research.google.com/github/sarannetworkprogammer/Ml_rad/blob/main/Linear_regression_pract.ipynb\" target=\"_parent\"><img src=\"https://colab.research.google.com/assets/colab-badge.svg\" alt=\"Open In Colab\"/></a>"
      ]
    },
    {
      "cell_type": "markdown",
      "source": [
        "Linear regression model computing y = 2x Function,\n",
        "\n",
        "\n",
        "\n",
        "\n",
        "1. Design model (input, outputsize, forwardpass)\n",
        "2. consturct optmizer and loss \n",
        "3. traning loop \n",
        "     forward pass compute prediction and loss\n",
        "     backwardpass: gradients\n",
        "     update weights\n"
      ],
      "metadata": {
        "id": "ESpOFoV_B_Ml"
      }
    },
    {
      "cell_type": "code",
      "execution_count": 107,
      "metadata": {
        "id": "Qy0RD9luBgOX"
      },
      "outputs": [],
      "source": [
        "import torch \n",
        "import torch.nn as nn\n",
        "import numpy as np\n",
        "from sklearn import datasets\n",
        "import matplotlib.pyplot as plt\n"
      ]
    },
    {
      "cell_type": "markdown",
      "source": [
        "1. Design model\n",
        "2. loss and optmizer\n",
        "3 Training loop \n",
        "    forward pass\n",
        "    loss\n",
        "    backwardpass gradients\n",
        "    update weights\n",
        "\n",
        "*   List item\n",
        "*   List item\n",
        "\n",
        "\n",
        "\n"
      ],
      "metadata": {
        "id": "FqPYav7wConM"
      }
    },
    {
      "cell_type": "code",
      "source": [
        "# step 0 prepare data\n",
        "\n",
        "\n",
        "X = torch.tensor([[1],[2],[3],[4]], dtype=torch.float32)\n",
        "\n",
        "Y = torch.tensor([[2],[4],[6],[8]], dtype=torch.float32)\n",
        "\n",
        "\n",
        "X_test = torch.tensor([5],dtype=torch.float32)\n",
        "\n",
        "n_samples, n_features = X.shape\n",
        "\n",
        "input_size = n_features\n",
        "output_size = n_features\n",
        "\n",
        "#print(X)\n",
        "#print(X.shape)\n",
        "#print(f\"shape_y= {Y.shape}\")\n",
        "\n",
        "\n",
        "#print(f\"prediction before training :f(5)={model(X_test).item():.3f}\")"
      ],
      "metadata": {
        "id": "RXygwSm2C58s"
      },
      "execution_count": 108,
      "outputs": []
    },
    {
      "cell_type": "code",
      "source": [
        "from re import L\n",
        "from torch.nn.modules.linear import Linear\n",
        "# model prediction\n",
        "\n",
        "\n",
        "\n",
        "class LinearRegression(nn.Module):\n",
        "\n",
        "\n",
        "  def __init__(self,input_dim, output_dim):\n",
        "    super(LinearRegression, self).__init__()\n",
        "\n",
        "    # define layers\n",
        "    self.lin = nn.Linear(input_dim, output_dim)\n",
        "\n",
        "  def forward(self,x):\n",
        "    return self.lin(x)\n",
        "\n",
        "\n",
        "\n",
        "model = LinearRegression(input_size, output_size)\n"
      ],
      "metadata": {
        "id": "nk-oStAhFfRQ"
      },
      "execution_count": 109,
      "outputs": []
    },
    {
      "cell_type": "code",
      "source": [
        "learning_rate = 0.01\n",
        "n_iters = 1000"
      ],
      "metadata": {
        "id": "XYa7JX-wFfU_"
      },
      "execution_count": 110,
      "outputs": []
    },
    {
      "cell_type": "code",
      "source": [
        "loss = nn.MSELoss()\n",
        "optimizer = torch.optim.SGD(model.parameters(),lr=learning_rate)"
      ],
      "metadata": {
        "id": "qSbmsNCeFhAN"
      },
      "execution_count": 111,
      "outputs": []
    },
    {
      "cell_type": "code",
      "source": [
        "# \n",
        "\n",
        "for epoch in range(n_iters):\n",
        "\n",
        "\n",
        "  #prediction = forward pass\n",
        "\n",
        "  y_pred = model(X)\n",
        "\n",
        "  #loss\n",
        "\n",
        "  l = loss(Y, y_pred)\n",
        "\n",
        "  # gradients = backwardpass\n",
        "\n",
        "  l.backward() # dl/dw\n",
        "\n",
        "  #update weights\n",
        "\n",
        "  optimizer.step()\n",
        "\n",
        "\n",
        "  #zero gradients\n",
        "\n",
        "  optimizer.zero_grad()\n",
        "\n",
        "  if epoch %100 ==0:\n",
        "    [w,b] = model.parameters()\n",
        "    print(f\"epoch ={epoch+1}: w = {w[0][0]:.3f}, loss = {l:.8f}\")\n",
        "\n",
        "\n",
        "print(f\"prediction before training :f(5)={model(X_test).item():.3f}\")"
      ],
      "metadata": {
        "colab": {
          "base_uri": "https://localhost:8080/"
        },
        "id": "nLJdg1pVMPCv",
        "outputId": "19ea7bca-70a1-40fc-b92c-f3b96c8d3e7d"
      },
      "execution_count": 112,
      "outputs": [
        {
          "output_type": "stream",
          "name": "stdout",
          "text": [
            "epoch =1: w = -0.338, loss = 56.81108093\n",
            "epoch =101: w = 1.791, loss = 0.06368168\n",
            "epoch =201: w = 1.845, loss = 0.03496047\n",
            "epoch =301: w = 1.885, loss = 0.01919290\n",
            "epoch =401: w = 1.915, loss = 0.01053663\n",
            "epoch =501: w = 1.937, loss = 0.00578450\n",
            "epoch =601: w = 1.953, loss = 0.00317561\n",
            "epoch =701: w = 1.965, loss = 0.00174337\n",
            "epoch =801: w = 1.974, loss = 0.00095709\n",
            "epoch =901: w = 1.981, loss = 0.00052543\n",
            "prediction before training :f(5)=9.971\n"
          ]
        }
      ]
    }
  ]
}
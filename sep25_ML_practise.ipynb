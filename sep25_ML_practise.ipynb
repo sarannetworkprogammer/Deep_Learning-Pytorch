{
  "nbformat": 4,
  "nbformat_minor": 0,
  "metadata": {
    "colab": {
      "provenance": [],
      "authorship_tag": "ABX9TyOjAAadyFH5aXDXrJl/vwpm",
      "include_colab_link": true
    },
    "kernelspec": {
      "name": "python3",
      "display_name": "Python 3"
    },
    "language_info": {
      "name": "python"
    }
  },
  "cells": [
    {
      "cell_type": "markdown",
      "metadata": {
        "id": "view-in-github",
        "colab_type": "text"
      },
      "source": [
        "<a href=\"https://colab.research.google.com/github/sarannetworkprogammer/Ml_rad/blob/main/sep25_ML_practise.ipynb\" target=\"_parent\"><img src=\"https://colab.research.google.com/assets/colab-badge.svg\" alt=\"Open In Colab\"/></a>"
      ]
    },
    {
      "cell_type": "code",
      "execution_count": null,
      "metadata": {
        "colab": {
          "base_uri": "https://localhost:8080/"
        },
        "id": "hK73ZfTlDv_l",
        "outputId": "220012b9-42f0-4dc4-8363-ffe441a07671"
      },
      "outputs": [
        {
          "output_type": "stream",
          "name": "stdout",
          "text": [
            "tensor([2.1235e-35])\n"
          ]
        }
      ],
      "source": [
        "import torch\n",
        "\n",
        "x = torch.empty(1)\n",
        "print(x)"
      ]
    },
    {
      "cell_type": "code",
      "source": [
        "# random value\n",
        "\n",
        "x = torch.rand(2,3)\n",
        "print(x)"
      ],
      "metadata": {
        "colab": {
          "base_uri": "https://localhost:8080/"
        },
        "id": "hL5F4w_hEJTj",
        "outputId": "cde9e1dc-04df-4533-e000-8a2ada801210"
      },
      "execution_count": null,
      "outputs": [
        {
          "output_type": "stream",
          "name": "stdout",
          "text": [
            "tensor([[0.9139, 0.2763, 0.6470],\n",
            "        [0.6056, 0.1839, 0.3858]])\n"
          ]
        }
      ]
    },
    {
      "cell_type": "code",
      "source": [
        "# printing ones values\n",
        "\n",
        "x = torch.ones(3,3, dtype=torch.float16)\n",
        "print(x)\n",
        "print(x.dtype)\n",
        "print(f\"size= {x.size()}\")"
      ],
      "metadata": {
        "colab": {
          "base_uri": "https://localhost:8080/"
        },
        "id": "xpURkvICEVoq",
        "outputId": "da483f90-d6b7-4df8-ee76-b7a9c71b0f0a"
      },
      "execution_count": null,
      "outputs": [
        {
          "output_type": "stream",
          "name": "stdout",
          "text": [
            "tensor([[1., 1., 1.],\n",
            "        [1., 1., 1.],\n",
            "        [1., 1., 1.]], dtype=torch.float16)\n",
            "torch.float16\n",
            "size= torch.Size([3, 3])\n"
          ]
        }
      ]
    },
    {
      "cell_type": "code",
      "source": [
        "\n",
        "#tensor\n",
        "x = torch.tensor([2.5,0.1])\n",
        "print(x)"
      ],
      "metadata": {
        "colab": {
          "base_uri": "https://localhost:8080/"
        },
        "id": "VfTh0BopFR4j",
        "outputId": "80b452d2-270c-4329-fdc5-99ac9eb58909"
      },
      "execution_count": null,
      "outputs": [
        {
          "output_type": "stream",
          "name": "stdout",
          "text": [
            "tensor([2.5000, 0.1000])\n"
          ]
        }
      ]
    },
    {
      "cell_type": "code",
      "source": [
        "x = torch.rand(2,2)\n",
        "y = torch.rand(2,2)\n",
        "print(x)\n",
        "print(y)\n",
        "z = x + y # z= torch.add(x,y)\n",
        "print(z)"
      ],
      "metadata": {
        "colab": {
          "base_uri": "https://localhost:8080/"
        },
        "id": "lIxpEg0kFqbz",
        "outputId": "06a90f38-84ed-43a5-f68a-13db6f5ae9a6"
      },
      "execution_count": null,
      "outputs": [
        {
          "output_type": "stream",
          "name": "stdout",
          "text": [
            "tensor([[0.6666, 0.0686],\n",
            "        [0.0355, 0.9598]])\n",
            "tensor([[0.7425, 0.5986],\n",
            "        [0.7540, 0.1695]])\n",
            "tensor([[1.4092, 0.6672],\n",
            "        [0.7895, 1.1293]])\n"
          ]
        }
      ]
    },
    {
      "cell_type": "code",
      "source": [
        "x = torch.rand(2,2)\n",
        "y = torch.rand(2,2)\n",
        "\n",
        "y.add_(x)\n",
        "print(y)"
      ],
      "metadata": {
        "colab": {
          "base_uri": "https://localhost:8080/"
        },
        "id": "oMj9D5qoF-8a",
        "outputId": "ee69ace7-c6f3-48b2-92b1-6b2f0e9314da"
      },
      "execution_count": null,
      "outputs": [
        {
          "output_type": "stream",
          "name": "stdout",
          "text": [
            "tensor([[0.8331, 1.3430],\n",
            "        [0.5669, 1.4498]])\n"
          ]
        }
      ]
    },
    {
      "cell_type": "code",
      "source": [
        "x = torch.rand(2,2)\n",
        "y = torch.rand(2,2)\n",
        "print(x)\n",
        "print(y)\n",
        "z = x *y \n",
        "print(z)\n",
        "\n",
        "y.mul_(x)\n",
        "print(\"mul=\",y)\n",
        "z = x"
      ],
      "metadata": {
        "colab": {
          "base_uri": "https://localhost:8080/"
        },
        "id": "EYbOZfL2GHva",
        "outputId": "364731bb-6c1c-45bd-8fc1-e6bf6e815ece"
      },
      "execution_count": null,
      "outputs": [
        {
          "output_type": "stream",
          "name": "stdout",
          "text": [
            "tensor([[0.2178, 0.8707],\n",
            "        [0.1585, 0.2672]])\n",
            "tensor([[0.5453, 0.5925],\n",
            "        [0.2781, 0.5372]])\n",
            "tensor([[0.1187, 0.5158],\n",
            "        [0.0441, 0.1435]])\n",
            "tensor([[0.1187, 0.5158],\n",
            "        [0.0441, 0.1435]])\n"
          ]
        }
      ]
    },
    {
      "cell_type": "code",
      "source": [
        "x = torch.rand(5,3)\n",
        "print(x)\n",
        "print(\"\\n\")\n",
        "print(x[:1])\n",
        "print(\"\\n\")\n",
        "\n",
        "print(x[1,1].item())"
      ],
      "metadata": {
        "colab": {
          "base_uri": "https://localhost:8080/"
        },
        "id": "6EpqYORBHM5Q",
        "outputId": "ed1d6e16-c52c-41c4-8fb5-604507d7898a"
      },
      "execution_count": null,
      "outputs": [
        {
          "output_type": "stream",
          "name": "stdout",
          "text": [
            "tensor([[0.2446, 0.4787, 0.5817],\n",
            "        [0.4753, 0.8402, 0.4243],\n",
            "        [0.1068, 0.8392, 0.1514],\n",
            "        [0.0845, 0.3641, 0.4900],\n",
            "        [0.5624, 0.1372, 0.3686]])\n",
            "\n",
            "\n",
            "tensor([[0.2446, 0.4787, 0.5817]])\n",
            "\n",
            "\n",
            "0.8402020335197449\n"
          ]
        }
      ]
    },
    {
      "cell_type": "code",
      "source": [
        "# reshaping \n",
        "\n",
        "x = torch.rand(4,4)\n",
        "print(x)\n",
        "# here number of elements should be same\n",
        "y = x.view(-1,8) # it automitacllay determines the size\n",
        "print(y)"
      ],
      "metadata": {
        "colab": {
          "base_uri": "https://localhost:8080/"
        },
        "id": "DAIPuHEwH-05",
        "outputId": "eff1f43d-ea1e-4092-ca99-f14eb2ffc2b1"
      },
      "execution_count": null,
      "outputs": [
        {
          "output_type": "stream",
          "name": "stdout",
          "text": [
            "tensor([[0.2579, 0.6884, 0.3307, 0.6683],\n",
            "        [0.4314, 0.7887, 0.4054, 0.3964],\n",
            "        [0.7692, 0.4859, 0.5411, 0.8683],\n",
            "        [0.9241, 0.6324, 0.5474, 0.7575]])\n",
            "tensor([[0.2579, 0.6884, 0.3307, 0.6683, 0.4314, 0.7887, 0.4054, 0.3964],\n",
            "        [0.7692, 0.4859, 0.5411, 0.8683, 0.9241, 0.6324, 0.5474, 0.7575]])\n"
          ]
        }
      ]
    },
    {
      "cell_type": "code",
      "source": [
        "import numpy as np\n",
        "\n",
        "a = torch.ones(5)\n",
        "print(a)\n",
        "b = a.numpy()\n",
        "print(type(b))\n",
        "print(b)\n",
        "print(\"\\n\")\n",
        "a.add_(1)\n",
        "print(a)\n",
        "print(\"b\",b)"
      ],
      "metadata": {
        "colab": {
          "base_uri": "https://localhost:8080/"
        },
        "id": "1JYMFLsYIixm",
        "outputId": "edcae554-2b4e-4fc0-f1f5-6e0850c05a01"
      },
      "execution_count": null,
      "outputs": [
        {
          "output_type": "stream",
          "name": "stdout",
          "text": [
            "tensor([1., 1., 1., 1., 1.])\n",
            "<class 'numpy.ndarray'>\n",
            "[1. 1. 1. 1. 1.]\n",
            "\n",
            "\n",
            "tensor([2., 2., 2., 2., 2.])\n",
            "b [2. 2. 2. 2. 2.]\n"
          ]
        }
      ]
    },
    {
      "cell_type": "code",
      "source": [
        "a = np.ones(5)\n",
        "print(a)\n",
        "b = torch.from_numpy(a)\n",
        "print(b)\n",
        "\n",
        "a +=1\n",
        "print(a)\n",
        "print(\"b\",b) \n",
        "\n",
        "# check that "
      ],
      "metadata": {
        "colab": {
          "base_uri": "https://localhost:8080/"
        },
        "id": "2M6gJ27nJHqj",
        "outputId": "ec9fdebb-a5b0-47ce-fb5e-2c35b4386927"
      },
      "execution_count": null,
      "outputs": [
        {
          "output_type": "stream",
          "name": "stdout",
          "text": [
            "[1. 1. 1. 1. 1.]\n",
            "tensor([1., 1., 1., 1., 1.], dtype=torch.float64)\n",
            "[2. 2. 2. 2. 2.]\n",
            "b tensor([2., 2., 2., 2., 2.], dtype=torch.float64)\n"
          ]
        }
      ]
    },
    {
      "cell_type": "code",
      "source": [
        "print(torch.cuda.is_available)\n",
        "#numpy can only handle cpu tensor\n",
        "# cuda tensors\n"
      ],
      "metadata": {
        "colab": {
          "base_uri": "https://localhost:8080/"
        },
        "id": "e8dcgShuJhpR",
        "outputId": "c8b6aed7-ac43-4d8b-cdd6-f1e62d3a785a"
      },
      "execution_count": null,
      "outputs": [
        {
          "output_type": "stream",
          "name": "stdout",
          "text": [
            "<function is_available at 0x7f57cc14eef0>\n"
          ]
        }
      ]
    },
    {
      "cell_type": "code",
      "source": [
        "x = torch.ones(5,requires_grad=True) # later calculates gradient \n",
        "print(x)"
      ],
      "metadata": {
        "colab": {
          "base_uri": "https://localhost:8080/"
        },
        "id": "H90BvifZKFoC",
        "outputId": "f4ca8fd7-15f9-4130-dd5e-3b35db427aca"
      },
      "execution_count": null,
      "outputs": [
        {
          "output_type": "stream",
          "name": "stdout",
          "text": [
            "tensor([1., 1., 1., 1., 1.], requires_grad=True)\n"
          ]
        }
      ]
    },
    {
      "cell_type": "markdown",
      "source": [],
      "metadata": {
        "id": "bcKQa5ZdKbIJ"
      }
    },
    {
      "cell_type": "code",
      "source": [
        "# auto grad \n",
        "\n",
        "x = torch.randn(3,requires_grad=True)\n",
        "print(x)\n",
        "\n",
        "y = x + 2\n",
        "\n",
        "print(y)\n",
        "\n",
        "z = y*y*2\n",
        "\n",
        "z= z.mean()\n",
        "print(z)\n",
        "\n",
        "z.backward() # dz/dx\n",
        "print(x.grad)"
      ],
      "metadata": {
        "colab": {
          "base_uri": "https://localhost:8080/"
        },
        "id": "a2OVFsyUJO0I",
        "outputId": "511aafbd-f9d7-46c7-e179-091ddd89b2b2"
      },
      "execution_count": null,
      "outputs": [
        {
          "output_type": "stream",
          "name": "stdout",
          "text": [
            "tensor([-0.2498,  0.0807,  0.6945], requires_grad=True)\n",
            "None\n",
            "tensor([1.7502, 2.0807, 2.6945], grad_fn=<AddBackward0>)\n",
            "tensor(9.7687, grad_fn=<MeanBackward0>)\n",
            "tensor([2.3336, 2.7743, 3.5926])\n"
          ]
        }
      ]
    },
    {
      "cell_type": "code",
      "source": [
        "x = torch.randn(3,requires_grad=True)\n",
        "print(x)\n",
        "\n",
        "# x.requiresg_grad_(False)\n",
        "#x.detach()\n",
        "#with torch.no_Grad()\n",
        "\n",
        "#x.requires_grad_(False)\n",
        "\n",
        "y = x.detach()\n",
        "print(y)\n",
        "\n",
        "\n",
        "\n",
        "\n"
      ],
      "metadata": {
        "colab": {
          "base_uri": "https://localhost:8080/"
        },
        "id": "nyLDgtTWNndk",
        "outputId": "7086cf46-a229-407e-d211-129301719743"
      },
      "execution_count": null,
      "outputs": [
        {
          "output_type": "stream",
          "name": "stdout",
          "text": [
            "tensor([1.5328, 3.0035, 0.1362], requires_grad=True)\n",
            "tensor([1.5328, 3.0035, 0.1362])\n"
          ]
        }
      ]
    },
    {
      "cell_type": "code",
      "source": [
        "weights = torch.ones(4,requires_grad=True)\n",
        "print(weights)\n",
        "\n",
        "\n",
        "for epoch in range(3):\n",
        "  model_output = (weights*3).sum()\n",
        "  print(model_output)\n",
        "  model_output.backward()\n",
        "  print(weights.grad)\n",
        "  weights.grad.zero_()"
      ],
      "metadata": {
        "colab": {
          "base_uri": "https://localhost:8080/"
        },
        "id": "noTnMNB4OaTB",
        "outputId": "619c327b-9ce8-447f-b983-47653ae8eeb6"
      },
      "execution_count": null,
      "outputs": [
        {
          "output_type": "stream",
          "name": "stdout",
          "text": [
            "tensor([1., 1., 1., 1.], requires_grad=True)\n",
            "tensor(12., grad_fn=<SumBackward0>)\n",
            "tensor([3., 3., 3., 3.])\n",
            "tensor(12., grad_fn=<SumBackward0>)\n",
            "tensor([3., 3., 3., 3.])\n",
            "tensor(12., grad_fn=<SumBackward0>)\n",
            "tensor([3., 3., 3., 3.])\n"
          ]
        }
      ]
    },
    {
      "cell_type": "code",
      "source": [
        "# back propagation algorithm\n",
        "\"\"\"\n",
        "chain rule \n",
        "\n",
        "dz/dx = dz/dy . dy/dx (all ar partial deriviates )\n",
        "computational graph \n",
        "\n",
        "\n",
        "\n",
        "\n",
        "\"\"\""
      ],
      "metadata": {
        "id": "C8cSZ4H3Pgxb"
      },
      "execution_count": null,
      "outputs": []
    },
    {
      "cell_type": "code",
      "source": [
        "import numpy as np\n",
        "\n",
        "# f = w * x\n",
        "\n",
        "# f = 2 * x\n",
        "\n",
        "X = np.array([1,2,3,4], dtype=np.float32)\n",
        "Y = np.array([2,4,6,8], dtype=np.float32)\n",
        "\n",
        "print(X)\n",
        "print(Y)\n",
        "\n",
        "w =0.0\n",
        "\n",
        "# model prediction \n",
        "\n",
        "\n",
        "def forward(X):\n",
        "\n",
        "  return w * X\n",
        "\n",
        "\n",
        "# loss == mean square error\n",
        "\n",
        "def loss(y, y_predicted):\n",
        "  return ((y_predicted - y) **2).mean()\n",
        "\n",
        "\n",
        "# gradient of loss \n",
        "\n",
        "#MSE = 1/N *(W*X -Y)\n",
        "\n",
        "# dj/dw = 1/N 2X(w*x- y)\n",
        "\n",
        "def gradient(x,y,y_predicted):\n",
        "  return np.dot(2*x, y_predicted - y).mean()\n",
        "\n",
        "\n",
        "print(f\"prediction before training :f(5)={forward(5):.3f}\")\n",
        "\n",
        "\n",
        "#Training \n",
        "\n",
        "learning_rate = 0.01\n",
        "n_iter = 20\n",
        "\n",
        "# training_loop\n",
        "\n",
        "for epoch in range(n_iter):\n",
        "  print(f\"epoch ={epoch}\")\n",
        "  #prediction = forward pass\n",
        "\n",
        "  y_pred = forward(X)\n",
        "\n",
        "\n",
        "  #LOSS\n",
        "\n",
        "  l = loss(Y, y_pred)\n",
        "\n",
        "  #gradients\n",
        "\n",
        "  dw = gradient(X,Y,y_pred)\n",
        "\n",
        "  # update weights\n",
        "\n",
        "  w -= learning_rate * dw\n",
        "\n",
        "  if epoch % 2 == 0:\n",
        "\n",
        "    print(f\"epoch {epoch +1}: w = {w:.3f}, loss={l:.8f}\")\n",
        "\n",
        "\n",
        "print(f\"prediction after training :f(5)={forward(5):.3f}\")\n"
      ],
      "metadata": {
        "id": "xJJfqhRqOfMW",
        "colab": {
          "base_uri": "https://localhost:8080/"
        },
        "outputId": "c9d9fcee-a780-477c-b914-28098678084f"
      },
      "execution_count": 6,
      "outputs": [
        {
          "output_type": "stream",
          "name": "stdout",
          "text": [
            "[1. 2. 3. 4.]\n",
            "[2. 4. 6. 8.]\n",
            "prediction before training :f(5)=0.000\n",
            "epoch =0\n",
            "epoch 1: w = 1.200, loss=30.00000000\n",
            "epoch =1\n",
            "epoch =2\n",
            "epoch 3: w = 1.872, loss=0.76800019\n",
            "epoch =3\n",
            "epoch =4\n",
            "epoch 5: w = 1.980, loss=0.01966083\n",
            "epoch =5\n",
            "epoch =6\n",
            "epoch 7: w = 1.997, loss=0.00050331\n",
            "epoch =7\n",
            "epoch =8\n",
            "epoch 9: w = 1.999, loss=0.00001288\n",
            "epoch =9\n",
            "epoch =10\n",
            "epoch 11: w = 2.000, loss=0.00000033\n",
            "epoch =11\n",
            "epoch =12\n",
            "epoch 13: w = 2.000, loss=0.00000001\n",
            "epoch =13\n",
            "epoch =14\n",
            "epoch 15: w = 2.000, loss=0.00000000\n",
            "epoch =15\n",
            "epoch =16\n",
            "epoch 17: w = 2.000, loss=0.00000000\n",
            "epoch =17\n",
            "epoch =18\n",
            "epoch 19: w = 2.000, loss=0.00000000\n",
            "epoch =19\n",
            "prediction after training :f(5)=10.000\n"
          ]
        }
      ]
    }
  ]
}
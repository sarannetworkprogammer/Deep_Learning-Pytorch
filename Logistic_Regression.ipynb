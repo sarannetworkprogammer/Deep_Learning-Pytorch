{
  "nbformat": 4,
  "nbformat_minor": 0,
  "metadata": {
    "colab": {
      "provenance": [],
      "authorship_tag": "ABX9TyPXTjABvA+F0+nMu8LT2LMx",
      "include_colab_link": true
    },
    "kernelspec": {
      "name": "python3",
      "display_name": "Python 3"
    },
    "language_info": {
      "name": "python"
    }
  },
  "cells": [
    {
      "cell_type": "markdown",
      "metadata": {
        "id": "view-in-github",
        "colab_type": "text"
      },
      "source": [
        "<a href=\"https://colab.research.google.com/github/sarannetworkprogammer/Ml_rad/blob/main/Logistic_Regression.ipynb\" target=\"_parent\"><img src=\"https://colab.research.google.com/assets/colab-badge.svg\" alt=\"Open In Colab\"/></a>"
      ]
    },
    {
      "cell_type": "markdown",
      "source": [
        "1. Design model (inputsize, outputsize ,forwardpass)\n",
        "2. Design loss and optimizer\n",
        "3. Training loop \n",
        "      forward pass : compute prediction and loss\n",
        "      backwardpass : gradients\n",
        "      update weights\n",
        "      "
      ],
      "metadata": {
        "id": "4OD1DkSTfGXt"
      }
    },
    {
      "cell_type": "code",
      "execution_count": 33,
      "metadata": {
        "id": "zZCTF-zqfDO7"
      },
      "outputs": [],
      "source": [
        "import torch\n",
        "import torch.nn as nn\n",
        "import numpy as np\n",
        "from sklearn import datasets\n",
        "from sklearn.preprocessing import StandardScaler\n",
        "from sklearn.model_selection import train_test_split"
      ]
    },
    {
      "cell_type": "code",
      "source": [
        "# step 0 prepared data\n",
        "\n",
        "\n",
        "bc = datasets.load_breast_cancer()\n",
        "\n",
        "X,y = bc.data , bc.target\n",
        "\n",
        "#print(x.shape)\n",
        "#print(y.shape)\n",
        "#print(x)\n",
        "\n",
        "# matrix columen is n_features and rows is samples \n",
        "n_samples, n_features = X.shape\n",
        "output_size = 1\n",
        "\n",
        "#spliting the data\n",
        "\n",
        "\n",
        "X_train , X_test ,y_train, y_test = train_test_split(X,y, test_size=0.2, random_state=1234)\n",
        "\n",
        "\n",
        "# scale\n",
        "\n",
        "sc = StandardScaler()\n",
        "\n",
        "\n",
        "X_train = sc.fit_transform(X_train)\n",
        "X_test = sc.fit_transform(X_test)\n",
        "\n",
        "\n",
        "X_train = torch.from_numpy (X_train.astype(np.float32))\n",
        "\n",
        "X_test = torch.from_numpy (X_test.astype(np.float32))\n",
        "\n",
        "\n",
        "y_train = torch.from_numpy (y_train.astype(np.float32))\n",
        "\n",
        "y_test = torch.from_numpy (y_test.astype(np.float32))\n",
        "\n",
        "\n",
        "y_train = y_train.view(y_train.shape[0],1)\n",
        "y_test = y_test.view(y_test.shape[0],1)\n",
        "\n",
        "\n"
      ],
      "metadata": {
        "id": "bAsCY4Mpf4c5"
      },
      "execution_count": 34,
      "outputs": []
    },
    {
      "cell_type": "code",
      "source": [
        "# model  f = wx + b sigmoid at the end  as this is a classification problem the output should be either zero or 1\n",
        "\n",
        "\n",
        "class LogisticRegression(nn.Module):\n",
        "  def __init__(self, n_input_features,output_size ):\n",
        "    super(LogisticRegression, self).__init__()\n",
        "\n",
        "\n",
        "    self.linear = nn.Linear(n_input_features, output_size)\n",
        "\n",
        "\n",
        "  def forward(self,x):\n",
        "    y_predicted = torch.sigmoid(self.linear(x))\n",
        "    return y_predicted\n",
        "\n",
        "\n",
        "model = LogisticRegression(n_features,output_size)"
      ],
      "metadata": {
        "id": "afncgOAYkiv0"
      },
      "execution_count": 35,
      "outputs": []
    },
    {
      "cell_type": "code",
      "source": [
        "#2. design loss and optimizer function\n",
        "\n",
        "\n",
        "criterion = nn.BCELoss()\n",
        "\n",
        "learning_rate = 0.01\n",
        "optimizer = torch.optim.SGD(model.parameters(), lr = learning_rate)"
      ],
      "metadata": {
        "id": "bTB4OJQOlm6u"
      },
      "execution_count": 36,
      "outputs": []
    },
    {
      "cell_type": "code",
      "source": [
        "#3. Training loops\n",
        "\n",
        "num_epochs = 1000\n",
        "\n",
        "for epoch in range(num_epochs):\n",
        "\n",
        "  # forward pass and loss calculation\n",
        "\n",
        "  y_predicted = model(X_train)\n",
        "\n",
        "  loss = criterion(y_predicted, y_train)\n",
        "\n",
        "  # back ward pass\n",
        "\n",
        "  loss.backward()\n",
        "\n",
        "  # update weights\n",
        "\n",
        "  optimizer.step()\n",
        "\n",
        "  # zero gradients\n",
        "  optimizer.zero_grad()\n",
        "\n",
        "  if (epoch+1)% 100 == 0:\n",
        "    print(f\"epoch ={epoch+1}, loss = {loss.item():.4f}\")\n",
        "\n",
        "\n",
        "\n",
        "\n",
        "\n"
      ],
      "metadata": {
        "colab": {
          "base_uri": "https://localhost:8080/"
        },
        "id": "ui7g4We7jLxB",
        "outputId": "32c3efd2-9fce-4eb3-de5a-efb84cfe0ea0"
      },
      "execution_count": 37,
      "outputs": [
        {
          "output_type": "stream",
          "name": "stdout",
          "text": [
            "epoch =100, loss = 0.2482\n",
            "epoch =200, loss = 0.1782\n",
            "epoch =300, loss = 0.1473\n",
            "epoch =400, loss = 0.1293\n",
            "epoch =500, loss = 0.1172\n",
            "epoch =600, loss = 0.1084\n",
            "epoch =700, loss = 0.1017\n",
            "epoch =800, loss = 0.0963\n",
            "epoch =900, loss = 0.0919\n",
            "epoch =1000, loss = 0.0882\n"
          ]
        }
      ]
    },
    {
      "cell_type": "code",
      "source": [
        "with torch.no_grad():\n",
        "  y_predicted = model(X_test)\n",
        "\n",
        "  y_predicted_cls = y_predicted.round()\n",
        "\n",
        "  acc =  y_predicted_cls.eq(y_test).sum() / float(y_test.shape[0])\n",
        "  \n",
        "  print(f\"accuracy = {acc:.4f}\")\n"
      ],
      "metadata": {
        "colab": {
          "base_uri": "https://localhost:8080/"
        },
        "id": "NENROE53nNsK",
        "outputId": "ee04032c-5f5e-421b-a651-89668e03eb1e"
      },
      "execution_count": 38,
      "outputs": [
        {
          "output_type": "stream",
          "name": "stdout",
          "text": [
            "accuracy = 0.9561\n"
          ]
        }
      ]
    }
  ]
}